{
 "cells": [
  {
   "cell_type": "code",
   "execution_count": 1,
   "metadata": {},
   "outputs": [
    {
     "name": "stdout",
     "output_type": "stream",
     "text": [
      "[70, 14, 102]\n",
      "[7, 7, 4]\n",
      "[567, 119, 820]\n",
      "820\n"
     ]
    }
   ],
   "source": [
    "from math import ceil\n",
    "\n",
    "f = open(\"test.txt\", \"r\")\n",
    "b_pass = f.readlines()\n",
    "\n",
    "b_pass = [i.strip(\"\\n\") for i in b_pass]\n",
    "\n",
    "seat_id = []\n",
    "seat_row = []\n",
    "seat_col = []\n",
    "\n",
    "for i in range(len(b_pass)):\n",
    "    row, t = (0, 127)\n",
    "    for j in range(7):\n",
    "        if b_pass[i][j] == \"F\":\n",
    "            t = (row + t) // 2\n",
    "        else:\n",
    "            row = ceil((row + t) / 2)\n",
    "\n",
    "    seat_row.append(row)\n",
    "\n",
    "    col, a = (0, 7)\n",
    "    for k in range(7, 10):\n",
    "        if b_pass[i][k] == \"L\":\n",
    "            a = (col + a) // 2\n",
    "        else:\n",
    "            col = ceil((col + a) / 2)\n",
    "    seat_col.append(col)\n",
    "    seat_id.append(row * 8 + col)\n",
    "\n",
    "highest_id = max(seat_id)\n",
    "print(seat_row)\n",
    "print(seat_col)\n",
    "print(seat_id)\n",
    "print(highest_id)"
   ]
  },
  {
   "cell_type": "code",
   "execution_count": 2,
   "metadata": {},
   "outputs": [
    {
     "name": "stdout",
     "output_type": "stream",
     "text": [
      "922\n"
     ]
    }
   ],
   "source": [
    "from math import ceil\n",
    "\n",
    "f = open(\"input.txt\", \"r\")\n",
    "b_pass = f.readlines()\n",
    "\n",
    "b_pass = [i.strip(\"\\n\") for i in b_pass]\n",
    "\n",
    "seat_id = []\n",
    "seat_row = []\n",
    "seat_col = []\n",
    "\n",
    "for i in range(len(b_pass)):\n",
    "    row, t = (0, 127)\n",
    "    for j in range(7):\n",
    "        if b_pass[i][j] == \"F\":\n",
    "            t = (row + t) // 2\n",
    "        else:\n",
    "            row = ceil((row + t) / 2)\n",
    "\n",
    "    seat_row.append(row)\n",
    "\n",
    "    col, a = (0, 7)\n",
    "    for k in range(7, 10):\n",
    "        if b_pass[i][k] == \"L\":\n",
    "            a = (col + a) // 2\n",
    "        else:\n",
    "            col = ceil((col + a) / 2)\n",
    "    seat_col.append(col)\n",
    "    seat_id.append(row * 8 + col)\n",
    "\n",
    "highest_id = max(seat_id)\n",
    "# print(seat_row)\n",
    "# print(seat_col)\n",
    "# print(seat_id)\n",
    "print(highest_id)"
   ]
  },
  {
   "cell_type": "code",
   "execution_count": 3,
   "metadata": {},
   "outputs": [
    {
     "name": "stdout",
     "output_type": "stream",
     "text": [
      "48\n",
      "922\n",
      "747\n"
     ]
    }
   ],
   "source": [
    "from math import ceil\n",
    "\n",
    "f = open(\"input.txt\", \"r\")\n",
    "b_pass = f.readlines()\n",
    "\n",
    "b_pass = [i.strip(\"\\n\") for i in b_pass]\n",
    "\n",
    "seat_id = []\n",
    "seat_row = []\n",
    "seat_col = []\n",
    "\n",
    "for i in range(len(b_pass)):\n",
    "    row, t = (0, 127)\n",
    "    for j in range(7):\n",
    "        if b_pass[i][j] == \"F\":\n",
    "            t = (row + t) // 2\n",
    "        else:\n",
    "            row = ceil((row + t) / 2)\n",
    "\n",
    "    seat_row.append(row)\n",
    "\n",
    "    col, a = (0, 7)\n",
    "    for k in range(7, 10):\n",
    "        if b_pass[i][k] == \"L\":\n",
    "            a = (col + a) // 2\n",
    "        else:\n",
    "            col = ceil((col + a) / 2)\n",
    "    seat_col.append(col)\n",
    "    seat_id.append(row * 8 + col)\n",
    "\n",
    "highest_id = max(seat_id)\n",
    "lowest_id = min(seat_id)\n",
    "\n",
    "print(lowest_id)\n",
    "print(highest_id)\n",
    "\n",
    "seat_id.sort()\n",
    "count = seat_id[0]\n",
    "\n",
    "for id_num in seat_id:\n",
    "    if id_num != count:\n",
    "        missing_id = count\n",
    "        count += 2\n",
    "    else:\n",
    "        count += 1\n",
    "\n",
    "print(missing_id)"
   ]
  },
  {
   "cell_type": "code",
   "execution_count": 4,
   "metadata": {},
   "outputs": [
    {
     "name": "stdout",
     "output_type": "stream",
     "text": [
      "['1000110111', '0001110111', '1100110100']\n",
      "[567, 119, 820]\n",
      "820\n"
     ]
    }
   ],
   "source": [
    "from math import ceil\n",
    "\n",
    "f = open(\"test.txt\", \"r\")\n",
    "b_pass = f.readlines()\n",
    "\n",
    "b_pass = [i.strip(\"\\n\") for i in b_pass]\n",
    "\n",
    "b_pass = [i.translate(str.maketrans(\"FBLR\", \"0101\")) for i in b_pass]\n",
    "\n",
    "print(b_pass)\n",
    "\n",
    "b_pass = [int(i, 2) for i in b_pass]\n",
    "\n",
    "print(b_pass)\n",
    "\n",
    "print(max(b_pass))"
   ]
  },
  {
   "cell_type": "code",
   "execution_count": 5,
   "metadata": {},
   "outputs": [
    {
     "name": "stdout",
     "output_type": "stream",
     "text": [
      "922\n",
      "747\n"
     ]
    }
   ],
   "source": [
    "from math import ceil\n",
    "\n",
    "f = open(\"input.txt\", \"r\")\n",
    "b_pass = f.readlines()\n",
    "\n",
    "b_pass = [i.strip(\"\\n\") for i in b_pass]\n",
    "\n",
    "b_pass = [i.translate(str.maketrans(\"FBLR\", \"0101\")) for i in b_pass]\n",
    "\n",
    "b_pass = [int(i, 2) for i in b_pass]\n",
    "\n",
    "print(max(b_pass))\n",
    "\n",
    "b_pass.sort()\n",
    "count = b_pass[0]\n",
    "\n",
    "for id_num in b_pass:\n",
    "    if id_num != count:\n",
    "        missing_id = count\n",
    "        count += 2\n",
    "    else:\n",
    "        count += 1\n",
    "\n",
    "print(missing_id)"
   ]
  },
  {
   "cell_type": "code",
   "execution_count": 6,
   "metadata": {},
   "outputs": [
    {
     "name": "stdout",
     "output_type": "stream",
     "text": [
      "922\n",
      "747\n"
     ]
    }
   ],
   "source": [
    "from math import ceil\n",
    "\n",
    "f = open(\"input.txt\", \"r\")\n",
    "b_pass = f.readlines()\n",
    "\n",
    "b_pass = [i.strip(\"\\n\") for i in b_pass]\n",
    "\n",
    "b_pass = [i.translate(str.maketrans(\"FBLR\", \"0101\")) for i in b_pass]\n",
    "\n",
    "b_pass = [int(i, 2) for i in b_pass]\n",
    "\n",
    "print(max(b_pass))\n",
    "\n",
    "maxid = max(b_pass)\n",
    "minid = min(b_pass)\n",
    "\n",
    "expectedsum = (maxid) * (maxid + 1) // 2 - (minid * (minid - 1)) // 2\n",
    "\n",
    "missingid = expectedsum - sum(b_pass)\n",
    "print(missingid)"
   ]
  }
 ],
 "metadata": {
  "kernelspec": {
   "display_name": "Python 3",
   "language": "python",
   "name": "python3"
  },
  "language_info": {
   "codemirror_mode": {
    "name": "ipython",
    "version": 3
   },
   "file_extension": ".py",
   "mimetype": "text/x-python",
   "name": "python",
   "nbconvert_exporter": "python",
   "pygments_lexer": "ipython3",
   "version": "3.8.5"
  }
 },
 "nbformat": 4,
 "nbformat_minor": 4
}
