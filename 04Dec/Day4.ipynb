{
 "cells": [
  {
   "cell_type": "code",
   "execution_count": 81,
   "metadata": {},
   "outputs": [
    {
     "name": "stdout",
     "output_type": "stream",
     "text": [
      "2\n"
     ]
    }
   ],
   "source": [
    "f = open(\"test.txt\", \"r\")\n",
    "lines = f.read().split(\"\\n\\n\")\n",
    "\n",
    "lines = [i.replace(\"\\n\", \" \") for i in lines]\n",
    "\n",
    "required = [\"byr\", \"iyr\", \"eyr\", \"hgt\", \"hcl\", \"ecl\", \"pid\"]\n",
    "\n",
    "valid = 0\n",
    "\n",
    "for i in range(len(lines)):\n",
    "    inpassport = 0\n",
    "    for j in range(len(required)):\n",
    "        if required[j] in lines[i]:\n",
    "            inpassport += 1\n",
    "    if inpassport == len(required):\n",
    "        valid += 1\n",
    "\n",
    "print(valid)"
   ]
  },
  {
   "cell_type": "code",
   "execution_count": 83,
   "metadata": {},
   "outputs": [
    {
     "name": "stdout",
     "output_type": "stream",
     "text": [
      "210\n"
     ]
    }
   ],
   "source": [
    "f = open(\"input.txt\", \"r\")\n",
    "lines = f.read().split(\"\\n\\n\")\n",
    "\n",
    "lines = [i.replace(\"\\n\", \" \") for i in lines]\n",
    "\n",
    "required = [\"byr\", \"iyr\", \"eyr\", \"hgt\", \"hcl\", \"ecl\", \"pid\"]\n",
    "\n",
    "valid = 0\n",
    "\n",
    "for i in range(len(lines)):\n",
    "    inpassport = 0\n",
    "    for j in range(len(required)):\n",
    "        if required[j] in lines[i]:\n",
    "            inpassport += 1\n",
    "    if inpassport == len(required):\n",
    "        valid += 1\n",
    "\n",
    "print(valid)"
   ]
  },
  {
   "cell_type": "code",
   "execution_count": 5,
   "metadata": {},
   "outputs": [
    {
     "name": "stdout",
     "output_type": "stream",
     "text": [
      "131\n"
     ]
    }
   ],
   "source": [
    "import re\n",
    "\n",
    "f = open(\"input.txt\", \"r\")\n",
    "lines = f.read().split(\"\\n\\n\")\n",
    "\n",
    "lines = [i.replace(\"\\n\", \" \") for i in lines]\n",
    "\n",
    "required = [\"byr\", \"iyr\", \"eyr\", \"hgt\", \"hcl\", \"ecl\", \"pid\"]\n",
    "\n",
    "present = []\n",
    "\n",
    "for i in range(len(lines)):\n",
    "    inpassport = 0\n",
    "    for j in range(len(required)):\n",
    "        if required[j] in lines[i]:\n",
    "            inpassport += 1\n",
    "    if inpassport == len(required):\n",
    "        present.append(lines[i])\n",
    "\n",
    "patterns = [\n",
    "    r\"byr:(19[2-9][0-9]|200[0-2])\\b\",\n",
    "    r\"iyr:(201[0-9]|2020)\\b\",\n",
    "    r\"eyr:(202[0-9]|2030)\\b\",\n",
    "    r\"hgt:((1[5-8][0-9]|19[0-3])cm|(59|6[0-9]|7[0-6])in)\\b\",\n",
    "    r\"hcl:#[a-f0-9]{6}\\b\",\n",
    "    r\"ecl:(amb|blu|brn|gry|grn|hzl|oth)\\b\",\n",
    "    r\"pid:[0-9]{9}\\b\",\n",
    "]\n",
    "\n",
    "valid = 0\n",
    "\n",
    "for line in present:\n",
    "    count = 0\n",
    "    for k in range(len(patterns)):\n",
    "        if re.search(patterns[k], line) == None:\n",
    "            break\n",
    "    else:\n",
    "        valid += 1\n",
    "\n",
    "print(valid)"
   ]
  }
 ],
 "metadata": {
  "kernelspec": {
   "display_name": "Python 3",
   "language": "python",
   "name": "python3"
  },
  "language_info": {
   "codemirror_mode": {
    "name": "ipython",
    "version": 3
   },
   "file_extension": ".py",
   "mimetype": "text/x-python",
   "name": "python",
   "nbconvert_exporter": "python",
   "pygments_lexer": "ipython3",
   "version": "3.8.5"
  }
 },
 "nbformat": 4,
 "nbformat_minor": 4
}
