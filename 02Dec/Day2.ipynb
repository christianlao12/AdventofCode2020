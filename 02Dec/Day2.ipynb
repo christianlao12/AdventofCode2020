{
 "cells": [
  {
   "cell_type": "code",
   "execution_count": 1,
   "metadata": {},
   "outputs": [
    {
     "name": "stdout",
     "output_type": "stream",
     "text": [
      "2\n"
     ]
    }
   ],
   "source": [
    "f = open(\"test.txt\", \"r\")\n",
    "array = f.read().split()\n",
    "\n",
    "x = array[2].count(array[1].strip(\":\"))\n",
    "y = [int(i) for i in array[0].split(\"-\")]\n",
    "\n",
    "valid = 0\n",
    "\n",
    "for i in range(0, len(array), 3):\n",
    "    x = [int(x) for x in array[i].split(\"-\")]\n",
    "    if x[0] <= array[i + 2].count(array[i + 1].strip(\":\")) <= x[1]:\n",
    "        valid += 1\n",
    "\n",
    "print(valid)"
   ]
  },
  {
   "cell_type": "code",
   "execution_count": 2,
   "metadata": {},
   "outputs": [
    {
     "name": "stdout",
     "output_type": "stream",
     "text": [
      "418\n"
     ]
    }
   ],
   "source": [
    "f = open(\"input.txt\", \"r\")\n",
    "array = f.read().split()\n",
    "\n",
    "\n",
    "valid = 0\n",
    "passwords = []\n",
    "\n",
    "for i in range(0, len(array), 3):\n",
    "    x = [int(x) for x in array[i].split(\"-\")]\n",
    "    if x[0] <= array[i + 2].count(array[i + 1].strip(\":\")) <= x[1]:\n",
    "        valid += 1\n",
    "\n",
    "print(valid)"
   ]
  },
  {
   "cell_type": "code",
   "execution_count": 3,
   "metadata": {},
   "outputs": [
    {
     "name": "stdout",
     "output_type": "stream",
     "text": [
      "1\n"
     ]
    }
   ],
   "source": [
    "f = open(\"test.txt\", \"r\")\n",
    "array = f.read().split()\n",
    "\n",
    "\n",
    "index_pos_list = [\n",
    "    i + 1 for i in range(len(array[8])) if array[8][i] == array[7].strip(\":\")\n",
    "]\n",
    "x = [int(x) for x in array[0].split(\"-\")]\n",
    "\n",
    "value = 0\n",
    "for i in range(0, len(array), 3):\n",
    "    x = [int(x) for x in array[i].split(\"-\")]\n",
    "    y = [\n",
    "        a + 1\n",
    "        for a in range(len(array[i + 2]))\n",
    "        if array[i + 2][a] == array[i + 1].strip(\":\")\n",
    "    ]\n",
    "    if x[0] in y:\n",
    "        if x[1] not in y:\n",
    "            value += 1\n",
    "    if x[1] in y:\n",
    "        if x[0] not in y:\n",
    "            value += 1\n",
    "\n",
    "print(value)"
   ]
  },
  {
   "cell_type": "code",
   "execution_count": 4,
   "metadata": {},
   "outputs": [
    {
     "name": "stdout",
     "output_type": "stream",
     "text": [
      "616\n"
     ]
    }
   ],
   "source": [
    "f = open(\"input.txt\", \"r\")\n",
    "array = f.read().split()\n",
    "\n",
    "\n",
    "value = 0\n",
    "for i in range(0, len(array), 3):\n",
    "    x = [int(x) for x in array[i].split(\"-\")]\n",
    "    y = [\n",
    "        a + 1\n",
    "        for a in range(len(array[i + 2]))\n",
    "        if array[i + 2][a] == array[i + 1].strip(\":\")\n",
    "    ]\n",
    "    if x[0] in y:\n",
    "        if x[1] not in y:\n",
    "            value += 1\n",
    "    if x[1] in y:\n",
    "        if x[0] not in y:\n",
    "            value += 1\n",
    "\n",
    "print(value)"
   ]
  }
 ],
 "metadata": {
  "kernelspec": {
   "display_name": "Python 3",
   "language": "python",
   "name": "python3"
  },
  "language_info": {
   "codemirror_mode": {
    "name": "ipython",
    "version": 3
   },
   "file_extension": ".py",
   "mimetype": "text/x-python",
   "name": "python",
   "nbconvert_exporter": "python",
   "pygments_lexer": "ipython3",
   "version": "3.8.5"
  }
 },
 "nbformat": 4,
 "nbformat_minor": 4
}
