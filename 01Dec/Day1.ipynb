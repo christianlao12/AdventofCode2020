{
 "cells": [
  {
   "cell_type": "code",
   "execution_count": 1,
   "metadata": {},
   "outputs": [
    {
     "name": "stdout",
     "output_type": "stream",
     "text": [
      "514579\n",
      "241861950\n"
     ]
    }
   ],
   "source": [
    "f = open(\"test.txt\", \"r\")\n",
    "values = f.read().split()\n",
    "values = [int(i) for i in values]\n",
    "\n",
    "sum = 2020\n",
    "\n",
    "\n",
    "def day1_1(values):\n",
    "    for i in values:\n",
    "        for j in values:\n",
    "            if i + j == sum:\n",
    "                return i * j\n",
    "\n",
    "\n",
    "print(day1_1(values))\n",
    "\n",
    "\n",
    "def day1_2(values):\n",
    "    for i in values:\n",
    "        for j in values:\n",
    "            for k in values:\n",
    "                if i + j + k == sum:\n",
    "                    return i * j * k\n",
    "\n",
    "\n",
    "print(day1_2(values))"
   ]
  },
  {
   "cell_type": "code",
   "execution_count": 2,
   "metadata": {},
   "outputs": [
    {
     "name": "stdout",
     "output_type": "stream",
     "text": [
      "898299\n",
      "143933922\n"
     ]
    }
   ],
   "source": [
    "f = open(\"input.txt\", \"r\")\n",
    "values = f.read().split()\n",
    "values = [int(i) for i in values]\n",
    "\n",
    "sum = 2020\n",
    "\n",
    "\n",
    "def day1_1(values):\n",
    "    for i in values:\n",
    "        for j in values:\n",
    "            if i + j == sum:\n",
    "                return i * j\n",
    "\n",
    "\n",
    "print(day1_1(values))\n",
    "\n",
    "\n",
    "def day1_2(values):\n",
    "    for i in values:\n",
    "        for j in values:\n",
    "            for k in values:\n",
    "                if i + j + k == sum:\n",
    "                    return i * j * k\n",
    "\n",
    "\n",
    "print(day1_2(values))"
   ]
  }
 ],
 "metadata": {
  "kernelspec": {
   "display_name": "Python 3",
   "language": "python",
   "name": "python3"
  },
  "language_info": {
   "codemirror_mode": {
    "name": "ipython",
    "version": 3
   },
   "file_extension": ".py",
   "mimetype": "text/x-python",
   "name": "python",
   "nbconvert_exporter": "python",
   "pygments_lexer": "ipython3",
   "version": "3.8.5"
  }
 },
 "nbformat": 4,
 "nbformat_minor": 4
}
