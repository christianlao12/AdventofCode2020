{
 "cells": [
  {
   "cell_type": "code",
   "execution_count": 1,
   "metadata": {},
   "outputs": [
    {
     "name": "stdout",
     "output_type": "stream",
     "text": [
      "11\n"
     ]
    }
   ],
   "source": [
    "# part1\n",
    "f = open(\"test.txt\", \"r\")\n",
    "lines = f.read().split(\"\\n\\n\")\n",
    "lines = [i.replace(\"\\n\", \"\") for i in lines]\n",
    "\n",
    "answered = []\n",
    "\n",
    "for i in range(len(lines)):\n",
    "    s = set(lines[i])\n",
    "    l = len(s)\n",
    "    answered.append(l)\n",
    "\n",
    "total_answered = sum(answered)\n",
    "\n",
    "print(total_answered)"
   ]
  },
  {
   "cell_type": "code",
   "execution_count": 2,
   "metadata": {},
   "outputs": [
    {
     "name": "stdout",
     "output_type": "stream",
     "text": [
      "6782\n"
     ]
    }
   ],
   "source": [
    "# part1\n",
    "f = open(\"input.txt\", \"r\")\n",
    "lines = f.read().split(\"\\n\\n\")\n",
    "lines = [i.replace(\"\\n\", \"\") for i in lines]\n",
    "\n",
    "answered = []\n",
    "\n",
    "for i in range(len(lines)):\n",
    "    s = set(lines[i])\n",
    "    l = len(s)\n",
    "    answered.append(l)\n",
    "\n",
    "total_answered = sum(answered)\n",
    "\n",
    "print(total_answered)"
   ]
  },
  {
   "cell_type": "code",
   "execution_count": 3,
   "metadata": {},
   "outputs": [
    {
     "name": "stdout",
     "output_type": "stream",
     "text": [
      "6782\n"
     ]
    }
   ],
   "source": [
    "# part1\n",
    "f = open(\"input.txt\", \"r\")\n",
    "lines = f.read().split(\"\\n\\n\")\n",
    "\n",
    "\n",
    "s = [len(set(\"\".join(line.split()))) for line in lines]\n",
    "\n",
    "answered = sum(s)\n",
    "print(answered)"
   ]
  },
  {
   "cell_type": "code",
   "execution_count": 12,
   "metadata": {},
   "outputs": [
    {
     "name": "stdout",
     "output_type": "stream",
     "text": [
      "6\n"
     ]
    }
   ],
   "source": [
    "# part2\n",
    "f = open(\"test.txt\", \"r\")\n",
    "lines = f.read().split(\"\\n\\n\")\n",
    "\n",
    "count = 0\n",
    "for line in lines:\n",
    "    passenger = [set(passenger) for passenger in line.split()]\n",
    "    count += len(passenger[0].intersection(*passenger[1:]))\n",
    "\n",
    "print(count)"
   ]
  },
  {
   "cell_type": "code",
   "execution_count": 5,
   "metadata": {},
   "outputs": [
    {
     "name": "stdout",
     "output_type": "stream",
     "text": [
      "3596\n"
     ]
    }
   ],
   "source": [
    "# part2\n",
    "f = open(\"input.txt\", \"r\")\n",
    "lines = f.read().split(\"\\n\\n\")\n",
    "\n",
    "count = 0\n",
    "for line in lines:\n",
    "    passenger = [set(passenger) for passenger in line.split()]\n",
    "    count += len(passenger[0].intersection(*passenger[1:]))\n",
    "\n",
    "print(count)"
   ]
  }
 ],
 "metadata": {
  "kernelspec": {
   "display_name": "Python 3",
   "language": "python",
   "name": "python3"
  },
  "language_info": {
   "codemirror_mode": {
    "name": "ipython",
    "version": 3
   },
   "file_extension": ".py",
   "mimetype": "text/x-python",
   "name": "python",
   "nbconvert_exporter": "python",
   "pygments_lexer": "ipython3",
   "version": "3.8.5"
  }
 },
 "nbformat": 4,
 "nbformat_minor": 4
}
