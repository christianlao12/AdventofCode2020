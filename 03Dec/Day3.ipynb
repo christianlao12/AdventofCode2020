{
 "cells": [
  {
   "cell_type": "code",
   "execution_count": 1,
   "metadata": {},
   "outputs": [
    {
     "name": "stdout",
     "output_type": "stream",
     "text": [
      "7\n"
     ]
    }
   ],
   "source": [
    "f = open(\"test.txt\", \"r\")\n",
    "lines = f.read().splitlines()\n",
    "\n",
    "\n",
    "value = 0\n",
    "for i in range(len(lines)):\n",
    "    x = lines[i][(3 * i) % len(lines[i])]\n",
    "    if x == \"#\":\n",
    "        value += 1\n",
    "\n",
    "print(value)"
   ]
  },
  {
   "cell_type": "code",
   "execution_count": 2,
   "metadata": {},
   "outputs": [
    {
     "name": "stdout",
     "output_type": "stream",
     "text": [
      "323\n",
      "252\n"
     ]
    }
   ],
   "source": [
    "f = open(\"input.txt\", \"r\")\n",
    "lines = f.read().splitlines()\n",
    "\n",
    "print(len(lines))\n",
    "\n",
    "value = 0\n",
    "\n",
    "for i in range(len(lines)):\n",
    "    x = lines[i][(3 * i) % len(lines[i])]\n",
    "    if x == \"#\":\n",
    "        value += 1\n",
    "\n",
    "print(value)"
   ]
  },
  {
   "cell_type": "code",
   "execution_count": 3,
   "metadata": {},
   "outputs": [
    {
     "name": "stdout",
     "output_type": "stream",
     "text": [
      "[2, 7, 3, 4, 2]\n",
      "336\n"
     ]
    }
   ],
   "source": [
    "import numpy as np\n",
    "\n",
    "f = open(\"test.txt\", \"r\")\n",
    "lines = f.read().splitlines()\n",
    "\n",
    "\n",
    "def slope_check(matrix, down, right):\n",
    "    value = 0\n",
    "    for i in range(int(len(matrix) / down)):\n",
    "        x = matrix[down * i][(right * i) % len(matrix[i])]\n",
    "        if x == \"#\":\n",
    "            value += 1\n",
    "    return value\n",
    "\n",
    "\n",
    "x = [[1, 1], [1, 3], [1, 5], [1, 7], [2, 1]]\n",
    "\n",
    "number = []\n",
    "for i in range(len(x)):\n",
    "    trees = slope_check(lines, x[i][0], x[i][1])\n",
    "    number.append(trees)\n",
    "\n",
    "print(number)\n",
    "tree = 1\n",
    "for i in number:\n",
    "    tree *= i\n",
    "print(tree)"
   ]
  },
  {
   "cell_type": "code",
   "execution_count": 4,
   "metadata": {},
   "outputs": [
    {
     "name": "stdout",
     "output_type": "stream",
     "text": [
      "[57, 252, 64, 66, 43]\n",
      "2608962048\n"
     ]
    }
   ],
   "source": [
    "f = open(\"input.txt\", \"r\")\n",
    "lines = f.read().splitlines()\n",
    "\n",
    "\n",
    "def slope_check(matrix, down, right):\n",
    "    value = 0\n",
    "    for i in range(int(len(matrix) / down)):\n",
    "        x = matrix[down * i][(right * i) % len(matrix[i])]\n",
    "        if x == \"#\":\n",
    "            value += 1\n",
    "    return value\n",
    "\n",
    "\n",
    "x = [[1, 1], [1, 3], [1, 5], [1, 7], [2, 1]]\n",
    "\n",
    "number = []\n",
    "for i in range(len(x)):\n",
    "    trees = slope_check(lines, x[i][0], x[i][1])\n",
    "    number.append(trees)\n",
    "\n",
    "print(number)\n",
    "tree = 1\n",
    "for i in number:\n",
    "    tree *= i\n",
    "print(tree)"
   ]
  }
 ],
 "metadata": {
  "kernelspec": {
   "display_name": "Python 3",
   "language": "python",
   "name": "python3"
  },
  "language_info": {
   "codemirror_mode": {
    "name": "ipython",
    "version": 3
   },
   "file_extension": ".py",
   "mimetype": "text/x-python",
   "name": "python",
   "nbconvert_exporter": "python",
   "pygments_lexer": "ipython3",
   "version": "3.8.5"
  }
 },
 "nbformat": 4,
 "nbformat_minor": 4
}
